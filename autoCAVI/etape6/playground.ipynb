{
 "cells": [
  {
   "cell_type": "code",
   "execution_count": 15,
   "metadata": {},
   "outputs": [],
   "source": [
    "using Random, GMRF\n",
    "\n",
    "include(\"src/dataGen.jl\");\n",
    "include(\"src/model.jl\");\n",
    "include(\"src/utils.jl\");"
   ]
  },
  {
   "cell_type": "markdown",
   "metadata": {},
   "source": [
    "Taille de la grille (à ne pas modifier)"
   ]
  },
  {
   "cell_type": "code",
   "execution_count": 2,
   "metadata": {},
   "outputs": [],
   "source": [
    "M₁ = 3;\n",
    "M₂ = 3;\n",
    "M = M₁ * M₂;"
   ]
  },
  {
   "cell_type": "markdown",
   "metadata": {},
   "source": [
    "- Génération de la grille cible\n",
    "- Création des données artificielles"
   ]
  },
  {
   "cell_type": "code",
   "execution_count": 3,
   "metadata": {},
   "outputs": [],
   "source": [
    "Random.seed!(300);\n",
    "Fmu = iGMRF(M₁, M₂, 1, 10);\n",
    "Fphi = iGMRF(M₁, M₂, 1, 100);\n",
    "gridTarget = generateTargetGrid(Fmu, Fphi);\n",
    "gridTarget[:, :, 1] = gridTarget[:, :, 1] .+ 10.0;\n",
    "nobs = 100;\n",
    "data = generateData(gridTarget, nobs);"
   ]
  },
  {
   "cell_type": "markdown",
   "metadata": {},
   "source": [
    "Réglages de CAVI"
   ]
  },
  {
   "cell_type": "code",
   "execution_count": 4,
   "metadata": {},
   "outputs": [],
   "source": [
    "nEpoch = 2;\n",
    "epochSize = 2;"
   ]
  },
  {
   "cell_type": "markdown",
   "metadata": {},
   "source": [
    "Structure de stockage des traces"
   ]
  },
  {
   "cell_type": "code",
   "execution_count": 5,
   "metadata": {},
   "outputs": [],
   "source": [
    "muMeanTrace = zeros(M, nEpoch*epochSize);\n",
    "phiMeanTrace = zeros(M, nEpoch*epochSize);\n",
    "xiMeanTrace = zeros(nEpoch*epochSize);\n",
    "varTrace = zeros(M, nEpoch*epochSize, 9);\n",
    "MCKL = zeros(nEpoch);"
   ]
  },
  {
   "cell_type": "markdown",
   "metadata": {},
   "source": [
    "Initialisation  \n",
    "On a seulement besoin d'initialiser les m  \n",
    "Ceux-ci peuvent être initialisés à 0 -> on n'y touche pas"
   ]
  },
  {
   "cell_type": "code",
   "execution_count": 20,
   "metadata": {},
   "outputs": [
    {
     "ename": "MethodError",
     "evalue": "MethodError: no method matching xilogfullconditional(::Vector{Float64}; μ::Vector{Float64}, ϕ::Vector{Float64}, data::Vector{Vector{Float64}})\n\nClosest candidates are:\n  xilogfullconditional(!Matched::Real; μ, ϕ, data)\n   @ Main ~/Documents/dd/maitrise/recherche/code/autoCAVI/etape5/src/model.jl:83\n",
     "output_type": "error",
     "traceback": [
      "MethodError: no method matching xilogfullconditional(::Vector{Float64}; μ::Vector{Float64}, ϕ::Vector{Float64}, data::Vector{Vector{Float64}})\n",
      "\n",
      "Closest candidates are:\n",
      "  xilogfullconditional(!Matched::Real; μ, ϕ, data)\n",
      "   @ Main ~/Documents/dd/maitrise/recherche/code/autoCAVI/etape5/src/model.jl:83\n",
      "\n",
      "\n",
      "Stacktrace:\n",
      " [1] (::var\"#131#136\"{Int64})(ξ::Vector{Float64})\n",
      "   @ Main ~/Documents/dd/maitrise/recherche/code/autoCAVI/etape5/jl_notebook_cell_df34fa98e69747e1a8f8a730347b8e2f_X13sZmlsZQ==.jl:34\n",
      " [2] (::var\"#F#92\"{var\"#131#136\"{Int64}})(x::Vector{Float64})\n",
      "   @ Main ~/Documents/dd/maitrise/recherche/code/autoCAVI/etape5/src/utils.jl:13\n",
      " [3] value!!(obj::NonDifferentiable{Float64, Vector{Float64}}, x::Vector{Float64})\n",
      "   @ NLSolversBase ~/.julia/packages/NLSolversBase/kavn7/src/interface.jl:9\n",
      " [4] initial_state(method::NelderMead{Optim.AffineSimplexer, Optim.AdaptiveParameters}, options::Optim.Options{Float64, Nothing}, d::NonDifferentiable{Float64, Vector{Float64}}, initial_x::Vector{Float64})\n",
      "   @ Optim ~/.julia/packages/Optim/ZhuZN/src/multivariate/solvers/zeroth_order/nelder_mead.jl:171\n",
      " [5] optimize(d::NonDifferentiable{Float64, Vector{Float64}}, initial_x::Vector{Float64}, method::NelderMead{Optim.AffineSimplexer, Optim.AdaptiveParameters}, options::Optim.Options{Float64, Nothing})\n",
      "   @ Optim ~/.julia/packages/Optim/ZhuZN/src/multivariate/optimize/optimize.jl:36\n",
      " [6] optimize(f::Function, initial_x::Vector{Float64}; inplace::Bool, autodiff::Symbol, kwargs::@Kwargs{})\n",
      "   @ Optim ~/.julia/packages/Optim/ZhuZN/src/multivariate/optimize/interface.jl:91\n",
      " [7] optimize\n",
      "   @ ~/.julia/packages/Optim/ZhuZN/src/multivariate/optimize/interface.jl:83 [inlined]\n",
      " [8] findMode(f::var\"#131#136\"{Int64}, x0::Vector{Float64})\n",
      "   @ Main ~/Documents/dd/maitrise/recherche/code/autoCAVI/etape5/src/utils.jl:14\n",
      " [9] top-level scope\n",
      "   @ ~/Documents/dd/maitrise/recherche/code/autoCAVI/etape5/jl_notebook_cell_df34fa98e69747e1a8f8a730347b8e2f_X13sZmlsZQ==.jl:33"
     ]
    }
   ],
   "source": [
    "using ForwardDiff\n",
    "\n",
    "for k = 1:nEpoch\n",
    "    for j = 1:epochSize\n",
    "        iter = (k - 1) * epochSize + j;\n",
    "        if iter > 1\n",
    "            muMeanTrace[:, iter] = muMeanTrace[:, iter-1];\n",
    "            phiMeanTrace[:, iter] = phiMeanTrace[:, iter-1];\n",
    "            xiMeanTrace[iter] = xiMeanTrace[iter-1];\n",
    "            for i = 1:M\n",
    "                μ̄i = neighborsMean(i, muMeanTrace[:, iter], Fmu);\n",
    "                ϕ̄i = neighborsMean(i, phiMeanTrace[:, iter], Fphi);\n",
    "                g(θi::DenseVector) = logfullconditional(\n",
    "                    i,\n",
    "                    θi,\n",
    "                    μ=muMeanTrace[:, iter],\n",
    "                    ϕ=phiMeanTrace[:, iter],\n",
    "                    μ̄i=μ̄i,\n",
    "                    ϕ̄i=ϕ̄i,\n",
    "                    Fmu=Fmu,\n",
    "                    Fphi=Fphi,\n",
    "                    data=data,\n",
    "                );\n",
    "                (muMeanTrace[i, iter], phiMeanTrace[i, iter], xiMeanTrace[iter]) = findMode(\n",
    "                    θi -> g(θi),\n",
    "                    [muMeanTrace[i, iter], phiMeanTrace[i, iter], xiMeanTrace[iter]],\n",
    "                );\n",
    "                varTrace[i, iter, :] = flatten(fisherVar(\n",
    "                    θi -> g(θi),\n",
    "                    [muMeanTrace[i, iter], phiMeanTrace[i, iter], xiMeanTrace[iter]]\n",
    "                ));\n",
    "            end\n",
    "            println(xiMeanTrace[iter])\n",
    "            xiMeanTrace[iter] = findMode(\n",
    "                ξ -> xilogfullconditional(\n",
    "                    ξ,\n",
    "                    μ=muMeanTrace[:, iter],\n",
    "                    ϕ=phiMeanTrace[:, iter],\n",
    "                    data=data,\n",
    "                ),\n",
    "                [xiMeanTrace[iter]],\n",
    "            );\n",
    "            println(xiMeanTrace[iter])\n",
    "        end\n",
    "    end\n",
    "    approxMarginals = [\n",
    "        MvNormal(\n",
    "            [muMeanTrace[i, iter], phiMeanTrace[i, iter], xiMeanTrace[iter]],\n",
    "            vecToMatrix(varTrace[i, iter, :]),\n",
    "        )\n",
    "        for i = 1:M\n",
    "    ];\n",
    "    # MCKL[k] = MonteCarloKL(logposterior, approxMarginals);\n",
    "end"
   ]
  },
  {
   "cell_type": "code",
   "execution_count": 25,
   "metadata": {},
   "outputs": [
    {
     "data": {
      "text/plain": [
       "(3, 4, 5)"
      ]
     },
     "metadata": {},
     "output_type": "display_data"
    }
   ],
   "source": [
    "size(tensor)"
   ]
  },
  {
   "cell_type": "code",
   "execution_count": null,
   "metadata": {},
   "outputs": [],
   "source": []
  }
 ],
 "metadata": {
  "kernelspec": {
   "display_name": "Julia 1.10.5",
   "language": "julia",
   "name": "julia-1.10"
  },
  "language_info": {
   "file_extension": ".jl",
   "mimetype": "application/julia",
   "name": "julia",
   "version": "1.10.5"
  }
 },
 "nbformat": 4,
 "nbformat_minor": 2
}
